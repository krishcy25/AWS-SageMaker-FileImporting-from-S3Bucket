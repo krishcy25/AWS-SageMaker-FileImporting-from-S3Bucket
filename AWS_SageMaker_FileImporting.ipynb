{
 "cells": [
  {
   "cell_type": "code",
   "execution_count": null,
   "metadata": {},
   "outputs": [],
   "source": [
    "import pandas as pd\n",
    "import numpy as np\n",
    "\n",
    "#Reading files into Amazon SageMaker Notebook Instance\n",
    "#Assumptions- All the data files need to be uploaded into S3 bucket and with the role\n",
    "#Assume you have 4 data files (.csv files) that are uploaded in S3 bucket- train_identity.csv, train_transaction.csv, test_identity.csv, test_transaction.csv\n",
    "#Role created above need to be used while creating the SageMaker Notebook instance\n",
    "\n",
    "!pip install s3fs #This line of code need to be executed only during the first run and can be avoided for subsequent runs\n",
    "\n",
    "#Boto3 is the name of the Python SDK for AWS. It allows you to directly create, update, and delete AWS resources from your Python scripts.\n",
    "import boto3\n",
    "client=boto3.client('s3')\n",
    "\n",
    "#Assuming we have the following 4 files with in our S3 bucket: train_identity.csv, train_transaction.csv, test_identity.csv, test_transaction.csv\n",
    "#fraudml is the name of the bucket with in S3\n",
    "path1='s3://fraudml/train_identity.csv'\n",
    "path2='s3://fraudml/train_transaction.csv'\n",
    "path3='s3://fraudml/test_identity.csv'\n",
    "path4='s3://fraudml/test_transaction.csv'\n",
    "\n",
    "train_identity=pd.read_csv(path1)\n",
    "train_transaction=pd.read_csv(path2)\n",
    "test_identity=pd.read_csv(path3)\n",
    "test_transaction=pd.read_csv(path4)\n",
    "\n",
    "#Now you have 4 dataframes which can be used for further data preparation, model building"
   ]
  }
 ],
 "metadata": {
  "kernelspec": {
   "display_name": "Python 3",
   "language": "python",
   "name": "python3"
  },
  "language_info": {
   "codemirror_mode": {
    "name": "ipython",
    "version": 3
   },
   "file_extension": ".py",
   "mimetype": "text/x-python",
   "name": "python",
   "nbconvert_exporter": "python",
   "pygments_lexer": "ipython3",
   "version": "3.7.6"
  }
 },
 "nbformat": 4,
 "nbformat_minor": 4
}
